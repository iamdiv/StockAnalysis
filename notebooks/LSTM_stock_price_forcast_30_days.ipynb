{
 "cells": [
  {
   "cell_type": "code",
   "execution_count": 6,
   "metadata": {},
   "outputs": [],
   "source": [
    "import sys\n",
    "import os\n",
    "\n",
    "# Get the current working directory, then step back\n",
    "parent_dir = os.path.abspath(os.path.join(os.getcwd(), '..'))\n",
    "\n",
    "# Insert the parent directory into sys.path\n",
    "sys.path.insert(0, parent_dir)\n"
   ]
  },
  {
   "cell_type": "code",
   "execution_count": 7,
   "metadata": {},
   "outputs": [
    {
     "data": {
      "text/plain": [
       "'c:\\\\Users\\\\DivyaPrakash\\\\Documents\\\\Divya\\\\Stock_Market_prediction\\\\StockAnalysis'"
      ]
     },
     "execution_count": 7,
     "metadata": {},
     "output_type": "execute_result"
    }
   ],
   "source": [
    "parent_dir"
   ]
  },
  {
   "cell_type": "code",
   "execution_count": 3,
   "metadata": {},
   "outputs": [],
   "source": [
    "import numpy as np\n",
    "import pandas as pd\n",
    "import matplotlib.pyplot as plt\n",
    "import yfinance as yf\n",
    "import torch\n",
    "import torch.nn as nn\n",
    "from sklearn.preprocessing import MinMaxScaler\n",
    "from sklearn.model_selection import train_test_split\n",
    "from datetime import datetime,timedelta\n",
    "from src import stock_info as si\n",
    "import joblib\n"
   ]
  },
  {
   "cell_type": "code",
   "execution_count": null,
   "metadata": {},
   "outputs": [
    {
     "name": "stderr",
     "output_type": "stream",
     "text": [
      "[*********************100%***********************]  1 of 1 completed\n",
      "\n",
      "1 Failed download:\n",
      "['NIFTY50.NS']: YFPricesMissingError('possibly delisted; no price data found  (1d 2020-01-01 00:00:00 -> 2025-04-15)')\n"
     ]
    },
    {
     "name": "stdout",
     "output_type": "stream",
     "text": [
      "data shape check:(0, 6)\n"
     ]
    }
   ],
   "source": [
    "#plot historical data.\n",
    "start_date = datetime(2010, 1, 1) \n",
    "end_date = datetime.today().date()\n",
    "ticker = \"NIFTY50.NS\"\n",
    "\n",
    "historical_data = si.get_historical_data(start_date=start_date, end_date=end_date, ticker=ticker)"
   ]
  },
  {
   "cell_type": "code",
   "execution_count": null,
   "metadata": {},
   "outputs": [
    {
     "data": {
      "text/html": [
       "<div>\n",
       "<style scoped>\n",
       "    .dataframe tbody tr th:only-of-type {\n",
       "        vertical-align: middle;\n",
       "    }\n",
       "\n",
       "    .dataframe tbody tr th {\n",
       "        vertical-align: top;\n",
       "    }\n",
       "\n",
       "    .dataframe thead th {\n",
       "        text-align: right;\n",
       "    }\n",
       "</style>\n",
       "<table border=\"1\" class=\"dataframe\">\n",
       "  <thead>\n",
       "    <tr style=\"text-align: right;\">\n",
       "      <th></th>\n",
       "      <th>Close_SBIN.NS</th>\n",
       "      <th>High_SBIN.NS</th>\n",
       "      <th>Low_SBIN.NS</th>\n",
       "      <th>Open_SBIN.NS</th>\n",
       "      <th>Volume_SBIN.NS</th>\n",
       "    </tr>\n",
       "    <tr>\n",
       "      <th>Date</th>\n",
       "      <th></th>\n",
       "      <th></th>\n",
       "      <th></th>\n",
       "      <th></th>\n",
       "      <th></th>\n",
       "    </tr>\n",
       "  </thead>\n",
       "  <tbody>\n",
       "    <tr>\n",
       "      <th>2010-01-04</th>\n",
       "      <td>192.488815</td>\n",
       "      <td>193.228127</td>\n",
       "      <td>191.127821</td>\n",
       "      <td>191.127821</td>\n",
       "      <td>11031470</td>\n",
       "    </tr>\n",
       "    <tr>\n",
       "      <th>2010-01-05</th>\n",
       "      <td>192.560242</td>\n",
       "      <td>194.068260</td>\n",
       "      <td>191.556289</td>\n",
       "      <td>193.900238</td>\n",
       "      <td>11613740</td>\n",
       "    </tr>\n",
       "    <tr>\n",
       "      <th>2010-01-06</th>\n",
       "      <td>193.715408</td>\n",
       "      <td>194.488319</td>\n",
       "      <td>191.967952</td>\n",
       "      <td>192.976097</td>\n",
       "      <td>14527930</td>\n",
       "    </tr>\n",
       "    <tr>\n",
       "      <th>2010-01-07</th>\n",
       "      <td>192.631622</td>\n",
       "      <td>194.068237</td>\n",
       "      <td>191.640284</td>\n",
       "      <td>193.732193</td>\n",
       "      <td>8576510</td>\n",
       "    </tr>\n",
       "    <tr>\n",
       "      <th>2010-01-08</th>\n",
       "      <td>192.056152</td>\n",
       "      <td>193.555774</td>\n",
       "      <td>191.556279</td>\n",
       "      <td>192.724048</td>\n",
       "      <td>10453820</td>\n",
       "    </tr>\n",
       "  </tbody>\n",
       "</table>\n",
       "</div>"
      ],
      "text/plain": [
       "            Close_SBIN.NS  High_SBIN.NS  Low_SBIN.NS  Open_SBIN.NS  \\\n",
       "Date                                                                 \n",
       "2010-01-04     192.488815    193.228127   191.127821    191.127821   \n",
       "2010-01-05     192.560242    194.068260   191.556289    193.900238   \n",
       "2010-01-06     193.715408    194.488319   191.967952    192.976097   \n",
       "2010-01-07     192.631622    194.068237   191.640284    193.732193   \n",
       "2010-01-08     192.056152    193.555774   191.556279    192.724048   \n",
       "\n",
       "            Volume_SBIN.NS  \n",
       "Date                        \n",
       "2010-01-04        11031470  \n",
       "2010-01-05        11613740  \n",
       "2010-01-06        14527930  \n",
       "2010-01-07         8576510  \n",
       "2010-01-08        10453820  "
      ]
     },
     "execution_count": 104,
     "metadata": {},
     "output_type": "execute_result"
    }
   ],
   "source": [
    "historical_data.head()"
   ]
  },
  {
   "cell_type": "code",
   "execution_count": 105,
   "metadata": {},
   "outputs": [],
   "source": [
    "data = historical_data[['Close_SBIN.NS']]"
   ]
  },
  {
   "cell_type": "code",
   "execution_count": 106,
   "metadata": {},
   "outputs": [
    {
     "data": {
      "text/html": [
       "<div>\n",
       "<style scoped>\n",
       "    .dataframe tbody tr th:only-of-type {\n",
       "        vertical-align: middle;\n",
       "    }\n",
       "\n",
       "    .dataframe tbody tr th {\n",
       "        vertical-align: top;\n",
       "    }\n",
       "\n",
       "    .dataframe thead th {\n",
       "        text-align: right;\n",
       "    }\n",
       "</style>\n",
       "<table border=\"1\" class=\"dataframe\">\n",
       "  <thead>\n",
       "    <tr style=\"text-align: right;\">\n",
       "      <th></th>\n",
       "      <th>Close_SBIN.NS</th>\n",
       "    </tr>\n",
       "    <tr>\n",
       "      <th>Date</th>\n",
       "      <th></th>\n",
       "    </tr>\n",
       "  </thead>\n",
       "  <tbody>\n",
       "    <tr>\n",
       "      <th>2010-01-04</th>\n",
       "      <td>192.488815</td>\n",
       "    </tr>\n",
       "    <tr>\n",
       "      <th>2010-01-05</th>\n",
       "      <td>192.560242</td>\n",
       "    </tr>\n",
       "    <tr>\n",
       "      <th>2010-01-06</th>\n",
       "      <td>193.715408</td>\n",
       "    </tr>\n",
       "    <tr>\n",
       "      <th>2010-01-07</th>\n",
       "      <td>192.631622</td>\n",
       "    </tr>\n",
       "    <tr>\n",
       "      <th>2010-01-08</th>\n",
       "      <td>192.056152</td>\n",
       "    </tr>\n",
       "  </tbody>\n",
       "</table>\n",
       "</div>"
      ],
      "text/plain": [
       "            Close_SBIN.NS\n",
       "Date                     \n",
       "2010-01-04     192.488815\n",
       "2010-01-05     192.560242\n",
       "2010-01-06     193.715408\n",
       "2010-01-07     192.631622\n",
       "2010-01-08     192.056152"
      ]
     },
     "execution_count": 106,
     "metadata": {},
     "output_type": "execute_result"
    }
   ],
   "source": [
    "data.head()"
   ]
  },
  {
   "cell_type": "code",
   "execution_count": 107,
   "metadata": {},
   "outputs": [
    {
     "name": "stderr",
     "output_type": "stream",
     "text": [
      "C:\\Users\\DivyaPrakash\\AppData\\Local\\Temp\\ipykernel_50668\\1064975760.py:2: SettingWithCopyWarning: \n",
      "A value is trying to be set on a copy of a slice from a DataFrame.\n",
      "Try using .loc[row_indexer,col_indexer] = value instead\n",
      "\n",
      "See the caveats in the documentation: https://pandas.pydata.org/pandas-docs/stable/user_guide/indexing.html#returning-a-view-versus-a-copy\n",
      "  data['EWM50'] = data['Close_SBIN.NS'].ewm(span=50, adjust=False).mean()\n",
      "C:\\Users\\DivyaPrakash\\AppData\\Local\\Temp\\ipykernel_50668\\1064975760.py:3: SettingWithCopyWarning: \n",
      "A value is trying to be set on a copy of a slice from a DataFrame.\n",
      "Try using .loc[row_indexer,col_indexer] = value instead\n",
      "\n",
      "See the caveats in the documentation: https://pandas.pydata.org/pandas-docs/stable/user_guide/indexing.html#returning-a-view-versus-a-copy\n",
      "  data['EWM20'] = data['Close_SBIN.NS'].ewm(span=20, adjust=False).mean()\n"
     ]
    }
   ],
   "source": [
    "#calculate moving avg \n",
    "data['EWM50'] = data['Close_SBIN.NS'].ewm(span=50, adjust=False).mean()\n",
    "data['EWM20'] = data['Close_SBIN.NS'].ewm(span=20, adjust=False).mean()"
   ]
  },
  {
   "cell_type": "code",
   "execution_count": 108,
   "metadata": {},
   "outputs": [],
   "source": [
    "# Drop NaN values (caused by the moving averages)\n",
    "data = data.dropna()"
   ]
  },
  {
   "cell_type": "code",
   "execution_count": 109,
   "metadata": {},
   "outputs": [],
   "source": [
    "#Normalize the data\n",
    "scaler = MinMaxScaler(feature_range=(0,1))\n",
    "scaled_data = scaler.fit_transform(data)"
   ]
  },
  {
   "cell_type": "code",
   "execution_count": 110,
   "metadata": {},
   "outputs": [
    {
     "data": {
      "text/plain": [
       "(3770, 3)"
      ]
     },
     "execution_count": 110,
     "metadata": {},
     "output_type": "execute_result"
    }
   ],
   "source": [
    "scaled_data.shape"
   ]
  },
  {
   "cell_type": "code",
   "execution_count": 111,
   "metadata": {},
   "outputs": [],
   "source": [
    "#create a time step data structure \n",
    "def create_dataset(data, time_step=60, forecast_horizon=30):\n",
    "    X,y = [],[]\n",
    "    for i in range(time_step, len(data)-forecast_horizon+1):\n",
    "       \n",
    "        X.append(data[i-time_step:i,:])\n",
    "        y.append(data[i:i+forecast_horizon,0])\n",
    "\n",
    "    return np.array(X), np.array(y)"
   ]
  },
  {
   "cell_type": "code",
   "execution_count": 112,
   "metadata": {},
   "outputs": [],
   "source": [
    "#Preparing data for training (using 60 days for predicting the nest day's price)\n",
    "X,y = create_dataset(scaled_data, time_step=60)\n",
    "\n",
    "#Reshape the data for LSTM [Samples, time steps , features]\n",
    "X = X.reshape(X.shape[0], X.shape[1],X.shape[2])\n",
    "\n",
    "#split the data into the training an test sets(80% Train and 20% Test)\n",
    "X_train, X_test, y_train, y_test = train_test_split(X,y, test_size=0.2, shuffle=False)\n",
    "\n",
    "#convert to pytorch Tensors\n",
    "\n",
    "X_train_tensor = torch.tensor(X_train, dtype=torch.float32)\n",
    "y_train_tensor = torch.tensor(y_train, dtype=torch.float32)\n",
    "X_test_tensor = torch.tensor(X_test, dtype=torch.float32)\n",
    "y_test_tensor = torch.tensor(y_test, dtype=torch.float32)\n"
   ]
  },
  {
   "cell_type": "code",
   "execution_count": 113,
   "metadata": {},
   "outputs": [
    {
     "data": {
      "text/plain": [
       "(torch.Size([2944, 60, 3]), torch.Size([2944, 30]))"
      ]
     },
     "execution_count": 113,
     "metadata": {},
     "output_type": "execute_result"
    }
   ],
   "source": [
    "X_train_tensor.shape,y_train_tensor.shape"
   ]
  },
  {
   "cell_type": "markdown",
   "metadata": {},
   "source": [
    "Define the LSTM Model in Pytorch"
   ]
  },
  {
   "cell_type": "code",
   "execution_count": 114,
   "metadata": {},
   "outputs": [],
   "source": [
    "class StockPricePredictor(nn.Module):\n",
    "    def __init__(self, input_size=3, hidden_layer_size = 100, num_layers=2, forcasted_horizon=30):\n",
    "        super(StockPricePredictor, self).__init__()\n",
    "\n",
    "        #LSTM Layer\n",
    "        self.lstm = nn.LSTM(input_size, hidden_layer_size, num_layers, batch_first=True)\n",
    "\n",
    "        #Dropout layer\n",
    "        self.dropout = nn.Dropout(0.2)\n",
    "\n",
    "        #fully Connected Layer\n",
    "        self.fc = nn.Linear(hidden_layer_size, forcasted_horizon)\n",
    "\n",
    "    def forward(self, x):\n",
    "        out,(hn,cn) = self.lstm(x)\n",
    "        out = self.dropout(out)\n",
    "        out = self.fc(out[:,-1,:])\n",
    "        return out"
   ]
  },
  {
   "cell_type": "code",
   "execution_count": 115,
   "metadata": {},
   "outputs": [],
   "source": [
    "#initialize the model, Define Loss and optimiser \n",
    "model = StockPricePredictor(input_size=3, hidden_layer_size=100, num_layers=2,forcasted_horizon=30)\n",
    "\n",
    "#Loss Funtion (Mean Squared Error)\n",
    "criterion = nn.MSELoss()\n",
    "\n",
    "#Optimiser(Adam)\n",
    "optimiser = torch.optim.Adam(model.parameters(), lr=0.001)"
   ]
  },
  {
   "cell_type": "markdown",
   "metadata": {},
   "source": [
    "train The Model"
   ]
  },
  {
   "cell_type": "code",
   "execution_count": 116,
   "metadata": {},
   "outputs": [
    {
     "name": "stdout",
     "output_type": "stream",
     "text": [
      "Epochs[5/150], Loss:0.0237\n",
      "Epochs[10/150], Loss:0.0132\n",
      "Epochs[15/150], Loss:0.0097\n",
      "Epochs[20/150], Loss:0.0094\n",
      "Epochs[25/150], Loss:0.0083\n",
      "Epochs[30/150], Loss:0.0064\n",
      "Epochs[35/150], Loss:0.0040\n",
      "Epochs[40/150], Loss:0.0037\n",
      "Epochs[45/150], Loss:0.0030\n",
      "Epochs[50/150], Loss:0.0027\n",
      "Epochs[55/150], Loss:0.0024\n",
      "Epochs[60/150], Loss:0.0022\n",
      "Epochs[65/150], Loss:0.0021\n",
      "Epochs[70/150], Loss:0.0020\n",
      "Epochs[75/150], Loss:0.0019\n",
      "Epochs[80/150], Loss:0.0019\n",
      "Epochs[85/150], Loss:0.0018\n",
      "Epochs[90/150], Loss:0.0018\n",
      "Epochs[95/150], Loss:0.0017\n",
      "Epochs[100/150], Loss:0.0017\n",
      "Epochs[105/150], Loss:0.0017\n",
      "Epochs[110/150], Loss:0.0017\n",
      "Epochs[115/150], Loss:0.0016\n",
      "Epochs[120/150], Loss:0.0016\n",
      "Epochs[125/150], Loss:0.0016\n",
      "Epochs[130/150], Loss:0.0016\n",
      "Epochs[135/150], Loss:0.0016\n",
      "Epochs[140/150], Loss:0.0016\n",
      "Epochs[145/150], Loss:0.0015\n",
      "Epochs[150/150], Loss:0.0015\n"
     ]
    }
   ],
   "source": [
    "#set the number of epochs\n",
    "epochs = 150\n",
    "\n",
    "for epoch in range(epochs):\n",
    "    #forward pass\n",
    "    outputs = model(X_train_tensor)\n",
    "\n",
    "    #calculate loss\n",
    "    loss = criterion(outputs, y_train_tensor)\n",
    "\n",
    "    #apply backpropoagation and optimization\n",
    "    optimiser.zero_grad()\n",
    "    loss.backward()\n",
    "    optimiser.step()\n",
    "\n",
    "    if (epoch + 1)%5 == 0: #print Every 2 epochs \n",
    "        print(f\"Epochs[{epoch+1}/{epochs}], Loss:{loss.item():.4f}\")"
   ]
  },
  {
   "cell_type": "markdown",
   "metadata": {},
   "source": [
    "Calculate RMSE with test data"
   ]
  },
  {
   "cell_type": "code",
   "execution_count": 117,
   "metadata": {},
   "outputs": [
    {
     "name": "stdout",
     "output_type": "stream",
     "text": [
      "\n",
      "Test RMSE: 0.0880\n"
     ]
    }
   ],
   "source": [
    "# %%\n",
    "from sklearn.metrics import mean_squared_error\n",
    "\n",
    "# Evaluate on test data\n",
    "model.eval()  # Set model to evaluation mode\n",
    "with torch.no_grad():\n",
    "    predicted_test = model(X_test_tensor)\n",
    "\n",
    "# Convert tensors to numpy\n",
    "predicted_test_np = predicted_test.numpy()\n",
    "y_test_np = y_test_tensor.numpy()\n",
    "\n",
    "# Create dummy array to match scaler's expected shape\n",
    "dummy_pred = np.zeros((predicted_test_np.shape[0], 3))\n",
    "dummy_real = np.zeros((y_test_np.shape[0], 3))\n",
    "\n",
    "# Only fill the 'Close' price (assuming it's the first feature)\n",
    "dummy_pred[:, 0] = predicted_test_np[:, 0]  # first day of forecast for each sequence\n",
    "dummy_real[:, 0] = y_test_np[:, 0]\n",
    "\n",
    "# Inverse transform using the scaler\n",
    "predicted_prices = scaler.inverse_transform(dummy_pred)[:, 0]\n",
    "actual_prices = scaler.inverse_transform(dummy_real)[:, 0]\n",
    "\n",
    "# Calculate RMSE\n",
    "rmse = np.sqrt(mean_squared_error(y_test_np.flatten(), predicted_test_np.flatten()))\n",
    "print(f\"\\nTest RMSE: {rmse:.4f}\")\n"
   ]
  },
  {
   "cell_type": "code",
   "execution_count": 123,
   "metadata": {},
   "outputs": [
    {
     "name": "stdout",
     "output_type": "stream",
     "text": [
      "Model and Scaler saved successfully.\n"
     ]
    }
   ],
   "source": [
    "#Save the trained model\n",
    "torch.save(model.state_dict(), f'{parent_dir}/models/{ticker}_model.pth')\n",
    "\n",
    "# Save the scaler\n",
    "joblib.dump(scaler, f'{parent_dir}/models/{ticker}_scaler.pkl')\n",
    "\n",
    "print(\"Model and Scaler saved successfully.\")"
   ]
  },
  {
   "cell_type": "markdown",
   "metadata": {},
   "source": [
    "Predictor"
   ]
  },
  {
   "cell_type": "code",
   "execution_count": 124,
   "metadata": {},
   "outputs": [],
   "source": [
    "def predict_next_30_days(model, scaler, data, device='cpu'):\n",
    "    \"\"\"\n",
    "    Predict the next 30 days of stock prices using the trained model.\n",
    "\n",
    "    Parameters:\n",
    "        model: Trained PyTorch model\n",
    "        scaler: Scaler used for normalization (MinMaxScaler)\n",
    "        data: DataFrame with the last known input data (at least 60 rows, with 3 features)\n",
    "        device: 'cpu' or 'cuda'\n",
    "\n",
    "    Returns:\n",
    "        np.array: Array of predicted prices (shape: 30,)\n",
    "    \"\"\"\n",
    "    model.eval()  # set model to eval mode\n",
    "\n",
    "    # Get the last 60 rows\n",
    "    last_60_days = data[-60:].values\n",
    "\n",
    "    # Scale it using the same scaler used for training\n",
    "    last_60_scaled = scaler.transform(last_60_days)\n",
    "\n",
    "    # Reshape to (1, 60, 3) for LSTM\n",
    "    input_seq = torch.tensor(last_60_scaled, dtype=torch.float32).unsqueeze(0).to(device)\n",
    "\n",
    "    with torch.no_grad():\n",
    "        prediction = model(input_seq).cpu().numpy()\n",
    "\n",
    "    # The model outputs 30 normalized prices — inverse transform needed\n",
    "    # Create dummy array to match scaler's expected shape\n",
    "    dummy = np.zeros((30, last_60_days.shape[1]))\n",
    "    dummy[:, 0] = prediction[0]  # only setting the Close price (index 0)\n",
    "\n",
    "    # Inverse transform\n",
    "    predicted_prices = scaler.inverse_transform(dummy)[:, 0]  # Get only the predicted 'Close' prices\n",
    "\n",
    "    return predicted_prices\n"
   ]
  },
  {
   "cell_type": "code",
   "execution_count": 125,
   "metadata": {},
   "outputs": [
    {
     "name": "stderr",
     "output_type": "stream",
     "text": [
      "c:\\Users\\DivyaPrakash\\anaconda3\\Lib\\site-packages\\sklearn\\base.py:464: UserWarning: X does not have valid feature names, but MinMaxScaler was fitted with feature names\n",
      "  warnings.warn(\n"
     ]
    }
   ],
   "source": [
    "predicted_next_30 = predict_next_30_days(model, scaler, data)"
   ]
  },
  {
   "cell_type": "code",
   "execution_count": 143,
   "metadata": {},
   "outputs": [],
   "source": [
    "def plot_forecast(data, predicted_prices,ticker):\n",
    "    \"\"\"\n",
    "    Plots the last 60 days of actual prices and the next 30 days of predicted prices.\n",
    "\n",
    "    Parameters:\n",
    "        data: Original DataFrame with the 'Close' column\n",
    "        predicted_prices: Array of predicted closing prices (length = 30)\n",
    "    \"\"\"\n",
    "    # Extract last 60 actual closing prices\n",
    "    last_60_actual = data[f'Close_{ticker}'].values[-60:]\n",
    "\n",
    "    total_days = np.arange(1, 91)\n",
    "    full_series = np.concatenate([last_60_actual, predicted_prices])\n",
    "\n",
    "    plt.figure(figsize=(12, 6))\n",
    "    plt.plot(total_days, full_series, label='Price (Actual + Predicted)', color='darkorange')\n",
    "\n",
    "    # Optional: Add shaded background to distinguish actual vs predicted\n",
    "    plt.axvspan(1, 60, color='lightblue', alpha=0.3, label='Actual')\n",
    "    plt.axvspan(60, 90, color='lightgreen', alpha=0.2, label='Predicted')\n",
    "\n",
    "    plt.title(f\"Stock Price Forecast for Close_{ticker}\")\n",
    "    plt.xlabel(\"Day\")\n",
    "    plt.ylabel(\"Price\")\n",
    "    plt.grid(True)\n",
    "    plt.legend()\n",
    "    plt.tight_layout()\n",
    "    plt.show()\n"
   ]
  },
  {
   "cell_type": "code",
   "execution_count": 145,
   "metadata": {},
   "outputs": [
    {
     "name": "stderr",
     "output_type": "stream",
     "text": [
      "c:\\Users\\DivyaPrakash\\anaconda3\\Lib\\site-packages\\sklearn\\base.py:464: UserWarning: X does not have valid feature names, but MinMaxScaler was fitted with feature names\n",
      "  warnings.warn(\n"
     ]
    },
    {
     "data": {
      "image/png": "[encoded data removed]",
      "text/plain": [
       "<Figure size 1200x600 with 1 Axes>"
      ]
     },
     "metadata": {},
     "output_type": "display_data"
    }
   ],
   "source": [
    "predicted_next_30 = predict_next_30_days(model, scaler, data)\n",
    "plot_forecast(data, predicted_next_30,ticker)"
   ]
  },
  {
   "cell_type": "code",
   "execution_count": null,
   "metadata": {},
   "outputs": [],
   "source": []
  }
 ],
 "metadata": {
  "kernelspec": {
   "display_name": "base",
   "language": "python",
   "name": "python3"
  },
  "language_info": {
   "codemirror_mode": {
    "name": "ipython",
    "version": 3
   },
   "file_extension": ".py",
   "mimetype": "text/x-python",
   "name": "python",
   "nbconvert_exporter": "python",
   "pygments_lexer": "ipython3",
   "version": "3.11.5"
  }
 },
 "nbformat": 4,
 "nbformat_minor": 2
}
