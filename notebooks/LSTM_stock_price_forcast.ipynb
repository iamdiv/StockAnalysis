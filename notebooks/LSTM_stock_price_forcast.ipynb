{
 "cells": [
  {
   "cell_type": "code",
   "execution_count": 8,
   "metadata": {},
   "outputs": [],
   "source": [
    "import sys\n",
    "import os\n",
    "\n",
    "# Get the current working directory, then step back\n",
    "parent_dir = os.path.abspath(os.path.join(os.getcwd(), '..'))\n",
    "\n",
    "# Insert the parent directory into sys.path\n",
    "sys.path.insert(0, parent_dir)\n"
   ]
  },
  {
   "cell_type": "code",
   "execution_count": 9,
   "metadata": {},
   "outputs": [
    {
     "data": {
      "text/plain": [
       "['c:\\\\Users\\\\DivyaPrakash\\\\Documents\\\\Divya\\\\Stock_Market_prediction\\\\StockAnalysis',\n",
       " 'c:\\\\Users\\\\DivyaPrakash\\\\Documents\\\\Divya\\\\Stock_Market_prediction\\\\StockAnalysis\\\\notebooks',\n",
       " 'c:\\\\Users\\\\DivyaPrakash\\\\anaconda3\\\\python311.zip',\n",
       " 'c:\\\\Users\\\\DivyaPrakash\\\\anaconda3\\\\DLLs',\n",
       " 'c:\\\\Users\\\\DivyaPrakash\\\\anaconda3\\\\Lib',\n",
       " 'c:\\\\Users\\\\DivyaPrakash\\\\anaconda3',\n",
       " '',\n",
       " 'c:\\\\Users\\\\DivyaPrakash\\\\anaconda3\\\\Lib\\\\site-packages',\n",
       " 'c:\\\\Users\\\\DivyaPrakash\\\\anaconda3\\\\Lib\\\\site-packages\\\\win32',\n",
       " 'c:\\\\Users\\\\DivyaPrakash\\\\anaconda3\\\\Lib\\\\site-packages\\\\win32\\\\lib',\n",
       " 'c:\\\\Users\\\\DivyaPrakash\\\\anaconda3\\\\Lib\\\\site-packages\\\\Pythonwin']"
      ]
     },
     "execution_count": 9,
     "metadata": {},
     "output_type": "execute_result"
    }
   ],
   "source": [
    "sys.path"
   ]
  },
  {
   "cell_type": "code",
   "execution_count": 11,
   "metadata": {},
   "outputs": [],
   "source": [
    "import numpy as np\n",
    "import pandas as pd\n",
    "import matplotlib.pyplot as plt\n",
    "import yfinance as yf\n",
    "import torch\n",
    "import torch.nn as nn\n",
    "from sklearn.preprocessing import MinMaxScaler\n",
    "from sklearn.model_selection import train_test_split\n",
    "from datetime import datetime,timedelta\n",
    "from src import stock_info as si\n",
    "import joblib\n"
   ]
  },
  {
   "cell_type": "code",
   "execution_count": 12,
   "metadata": {},
   "outputs": [
    {
     "name": "stdout",
     "output_type": "stream",
     "text": [
      "YF.download() has changed argument auto_adjust default to True\n"
     ]
    },
    {
     "name": "stderr",
     "output_type": "stream",
     "text": [
      "[*********************100%***********************]  1 of 1 completed"
     ]
    },
    {
     "name": "stdout",
     "output_type": "stream",
     "text": [
      "data shape check:(1732, 5)\n"
     ]
    },
    {
     "name": "stderr",
     "output_type": "stream",
     "text": [
      "\n"
     ]
    }
   ],
   "source": [
    "#plot historical data.\n",
    "start_date = datetime(2010, 1, 1) \n",
    "end_date = datetime.today().date()\n",
    "ticker = \"LEMONTREE.NS\"\n",
    "\n",
    "historical_data = si.get_historical_data(start_date=start_date, end_date=end_date, ticker=ticker)"
   ]
  },
  {
   "cell_type": "code",
   "execution_count": 13,
   "metadata": {},
   "outputs": [
    {
     "data": {
      "text/plain": [
       "(Timestamp('2018-04-09 00:00:00'), Timestamp('2025-04-11 00:00:00'))"
      ]
     },
     "execution_count": 13,
     "metadata": {},
     "output_type": "execute_result"
    }
   ],
   "source": [
    "historical_data.index.min(),historical_data.index.max()"
   ]
  },
  {
   "cell_type": "code",
   "execution_count": 14,
   "metadata": {},
   "outputs": [],
   "source": [
    "data = historical_data[[f'Close_{ticker}']]"
   ]
  },
  {
   "cell_type": "code",
   "execution_count": 15,
   "metadata": {},
   "outputs": [
    {
     "data": {
      "text/html": [
       "<div>\n",
       "<style scoped>\n",
       "    .dataframe tbody tr th:only-of-type {\n",
       "        vertical-align: middle;\n",
       "    }\n",
       "\n",
       "    .dataframe tbody tr th {\n",
       "        vertical-align: top;\n",
       "    }\n",
       "\n",
       "    .dataframe thead th {\n",
       "        text-align: right;\n",
       "    }\n",
       "</style>\n",
       "<table border=\"1\" class=\"dataframe\">\n",
       "  <thead>\n",
       "    <tr style=\"text-align: right;\">\n",
       "      <th></th>\n",
       "      <th>Close_LEMONTREE.NS</th>\n",
       "    </tr>\n",
       "    <tr>\n",
       "      <th>Date</th>\n",
       "      <th></th>\n",
       "    </tr>\n",
       "  </thead>\n",
       "  <tbody>\n",
       "    <tr>\n",
       "      <th>2018-04-09</th>\n",
       "      <td>71.650002</td>\n",
       "    </tr>\n",
       "    <tr>\n",
       "      <th>2018-04-10</th>\n",
       "      <td>66.849998</td>\n",
       "    </tr>\n",
       "    <tr>\n",
       "      <th>2018-04-11</th>\n",
       "      <td>66.949997</td>\n",
       "    </tr>\n",
       "    <tr>\n",
       "      <th>2018-04-12</th>\n",
       "      <td>66.400002</td>\n",
       "    </tr>\n",
       "    <tr>\n",
       "      <th>2018-04-13</th>\n",
       "      <td>67.699997</td>\n",
       "    </tr>\n",
       "  </tbody>\n",
       "</table>\n",
       "</div>"
      ],
      "text/plain": [
       "            Close_LEMONTREE.NS\n",
       "Date                          \n",
       "2018-04-09           71.650002\n",
       "2018-04-10           66.849998\n",
       "2018-04-11           66.949997\n",
       "2018-04-12           66.400002\n",
       "2018-04-13           67.699997"
      ]
     },
     "execution_count": 15,
     "metadata": {},
     "output_type": "execute_result"
    }
   ],
   "source": [
    "data.head()"
   ]
  },
  {
   "cell_type": "code",
   "execution_count": 16,
   "metadata": {},
   "outputs": [
    {
     "name": "stderr",
     "output_type": "stream",
     "text": [
      "C:\\Users\\DivyaPrakash\\AppData\\Local\\Temp\\ipykernel_23156\\218091804.py:2: SettingWithCopyWarning: \n",
      "A value is trying to be set on a copy of a slice from a DataFrame.\n",
      "Try using .loc[row_indexer,col_indexer] = value instead\n",
      "\n",
      "See the caveats in the documentation: https://pandas.pydata.org/pandas-docs/stable/user_guide/indexing.html#returning-a-view-versus-a-copy\n",
      "  data['MAS'] = data[f'Close_{ticker}'].rolling(window=5).mean()\n",
      "C:\\Users\\DivyaPrakash\\AppData\\Local\\Temp\\ipykernel_23156\\218091804.py:3: SettingWithCopyWarning: \n",
      "A value is trying to be set on a copy of a slice from a DataFrame.\n",
      "Try using .loc[row_indexer,col_indexer] = value instead\n",
      "\n",
      "See the caveats in the documentation: https://pandas.pydata.org/pandas-docs/stable/user_guide/indexing.html#returning-a-view-versus-a-copy\n",
      "  data['MAS20'] = data[f'Close_{ticker}'].rolling(window=20).mean()\n"
     ]
    }
   ],
   "source": [
    "#calculate moving avg \n",
    "data['MAS'] = data[f'Close_{ticker}'].rolling(window=5).mean()\n",
    "data['MAS20'] = data[f'Close_{ticker}'].rolling(window=20).mean()"
   ]
  },
  {
   "cell_type": "code",
   "execution_count": 17,
   "metadata": {},
   "outputs": [],
   "source": [
    "# Drop NaN values (caused by the moving averages)\n",
    "data = data.dropna()"
   ]
  },
  {
   "cell_type": "code",
   "execution_count": 18,
   "metadata": {},
   "outputs": [],
   "source": [
    "#Normalize the data\n",
    "scaler = MinMaxScaler(feature_range=(0,1))\n",
    "scaled_data = scaler.fit_transform(data)"
   ]
  },
  {
   "cell_type": "code",
   "execution_count": 19,
   "metadata": {},
   "outputs": [],
   "source": [
    "#create a time step data structure \n",
    "def create_dataset(data, time_step=60):\n",
    "    X,y = [],[]\n",
    "    for i in range(time_step, len(data)):\n",
    "       \n",
    "        X.append(data[i-time_step:i,:])\n",
    "        y.append(data[i,0])\n",
    "\n",
    "    return np.array(X), np.array(y)"
   ]
  },
  {
   "cell_type": "code",
   "execution_count": 20,
   "metadata": {},
   "outputs": [],
   "source": [
    "#Preparing data for training (using 60 days for predicting the nest day's price)\n",
    "X,y = create_dataset(scaled_data, time_step=60)\n",
    "\n",
    "#Reshape the data for LSTM [Samples, time steps , features]\n",
    "X = X.reshape(X.shape[0], X.shape[1],X.shape[2])\n",
    "\n",
    "#split the data into the training an test sets(80% Train and 20% Test)\n",
    "X_train, X_test, y_train, y_test = train_test_split(X,y, test_size=0.2, shuffle=False)\n",
    "\n",
    "#convert to pytorch Tensors\n",
    "\n",
    "X_train_tensor = torch.tensor(X_train, dtype=torch.float32)\n",
    "y_train_tensor = torch.tensor(y_train, dtype=torch.float32)\n",
    "X_test_tensor = torch.tensor(X_test, dtype=torch.float32)\n",
    "y_test_tensor = torch.tensor(y_test, dtype=torch.float32)\n"
   ]
  },
  {
   "cell_type": "markdown",
   "metadata": {},
   "source": [
    "Define the LSTM Model in Pytorch"
   ]
  },
  {
   "cell_type": "code",
   "execution_count": 21,
   "metadata": {},
   "outputs": [],
   "source": [
    "class StockPricePredictor(nn.Module):\n",
    "    def __init__(self, input_size=3, hidden_layer_size = 100, num_layers=2, output_size=1):\n",
    "        super(StockPricePredictor, self).__init__()\n",
    "\n",
    "        #LSTM Layer\n",
    "        self.lstm = nn.LSTM(input_size, hidden_layer_size, num_layers, batch_first=True)\n",
    "\n",
    "        #Dropout layer\n",
    "        self.dropout = nn.Dropout(0.2)\n",
    "\n",
    "        #fully Connected Layer\n",
    "        self.fc = nn.Linear(hidden_layer_size, output_size)\n",
    "\n",
    "    def forward(self, x):\n",
    "        out,_ = self.lstm(x)\n",
    "        out = self.dropout(out)\n",
    "        out = self.fc(out[:,-1,:])\n",
    "        return out"
   ]
  },
  {
   "cell_type": "code",
   "execution_count": 22,
   "metadata": {},
   "outputs": [],
   "source": [
    "#initialize the model, Define Loss and optimiser \n",
    "model = StockPricePredictor(input_size=3, hidden_layer_size=100, num_layers=2,output_size=1)\n",
    "\n",
    "#Loss Funtion (Mean Squared Error)\n",
    "criterion = nn.MSELoss()\n",
    "\n",
    "#Optimiser(Adam)\n",
    "optimiser = torch.optim.Adam(model.parameters(), lr=0.001)"
   ]
  },
  {
   "cell_type": "markdown",
   "metadata": {},
   "source": [
    "train The Model"
   ]
  },
  {
   "cell_type": "code",
   "execution_count": null,
   "metadata": {},
   "outputs": [
    {
     "name": "stdout",
     "output_type": "stream",
     "text": [
      "Epochs[5/100], Loss:0.0529\n",
      "Epochs[10/100], Loss:0.0335\n",
      "Epochs[15/100], Loss:0.0197\n"
     ]
    }
   ],
   "source": [
    "#set the number of epochs\n",
    "epochs = 100\n",
    "\n",
    "for epoch in range(epochs):\n",
    "    #forward pass\n",
    "    outputs = model(X_train_tensor)\n",
    "\n",
    "    #calculate loss\n",
    "    loss = criterion(outputs, y_train_tensor.view(-1,1))\n",
    "\n",
    "    #apply backpropoagation and optimization\n",
    "    optimiser.zero_grad()\n",
    "    loss.backward()\n",
    "    optimiser.step()\n",
    "\n",
    "    if (epoch + 1)%5 == 0: #print Every 2 epochs \n",
    "        print(f\"Epochs[{epoch+1}/{epochs}], Loss:{loss.item():.4f}\")"
   ]
  },
  {
   "cell_type": "markdown",
   "metadata": {},
   "source": [
    "Evaluate the Model and Make Prediction for the Test Data"
   ]
  },
  {
   "cell_type": "code",
   "execution_count": null,
   "metadata": {},
   "outputs": [
    {
     "data": {
      "text/plain": [
       "(array([19723., 19783., 19844., 19905., 19967., 20028., 20089., 20148.,\n",
       "        20209.]),\n",
       " [Text(19723.0, 0, '2024-01'),\n",
       "  Text(19783.0, 0, '2024-03'),\n",
       "  Text(19844.0, 0, '2024-05'),\n",
       "  Text(19905.0, 0, '2024-07'),\n",
       "  Text(19967.0, 0, '2024-09'),\n",
       "  Text(20028.0, 0, '2024-11'),\n",
       "  Text(20089.0, 0, '2025-01'),\n",
       "  Text(20148.0, 0, '2025-03'),\n",
       "  Text(20209.0, 0, '2025-05')])"
      ]
     },
     "execution_count": 18,
     "metadata": {},
     "output_type": "execute_result"
    },
    {
     "data": {
      "image/png": "[encoded data removed]",
      "text/plain": [
       "<Figure size 1000x600 with 1 Axes>"
      ]
     },
     "metadata": {},
     "output_type": "display_data"
    }
   ],
   "source": [
    "model.eval() # set the model to evaluation mode\n",
    "\n",
    "with torch.no_grad():\n",
    "    predicited_price = model(X_test_tensor)\n",
    "\n",
    "# convert prediction and true values back to the original scale\n",
    "predicited_price = predicited_price.numpy()\n",
    "real_price = y_test_tensor.numpy().reshape(-1,1)\n",
    "\n",
    "#Inverse scalling on all the featurees\n",
    "predicted_price_all_features = np.concatenate([predicited_price, np.zeros((predicited_price.shape[0],2))], axis = 1)\n",
    "real_price_all_features = np.concatenate([real_price, np.zeros((real_price.shape[0],2))], axis =1)\n",
    "\n",
    "#inverse the scalling to get the actual pricing\n",
    "predicted_price_all_features = scaler.inverse_transform(predicted_price_all_features)\n",
    "real_price_all_features = scaler.inverse_transform(real_price_all_features)\n",
    "\n",
    "predicited_price_final = predicted_price_all_features[:,0]\n",
    "real_price_final = real_price_all_features[:,0]\n",
    "\n",
    "# Plot the results\n",
    "plt.figure(figsize=(10, 6))\n",
    "plt.plot(data.index[-len(real_price_final):], real_price_final, color='blue', label='Real Stock Price')\n",
    "plt.plot(data.index[-len(predicited_price_final):], predicited_price_final, color='red', label='Predicted Stock Price')\n",
    "plt.title('Stock Price Prediction (LSTM) - PyTorch')\n",
    "plt.xlabel('Date')\n",
    "plt.ylabel('Stock Price')\n",
    "plt.legend()\n",
    "plt.xticks(rotation=45)\n"
   ]
  },
  {
   "cell_type": "code",
   "execution_count": null,
   "metadata": {},
   "outputs": [
    {
     "data": {
      "text/plain": [
       "(738, 1)"
      ]
     },
     "execution_count": 159,
     "metadata": {},
     "output_type": "execute_result"
    }
   ],
   "source": []
  },
  {
   "cell_type": "code",
   "execution_count": null,
   "metadata": {},
   "outputs": [
    {
     "name": "stdout",
     "output_type": "stream",
     "text": [
      "RMSE: 0.04671204574668799\n"
     ]
    }
   ],
   "source": [
    "from sklearn.metrics import mean_squared_error\n",
    "import math\n",
    "\n",
    "# Calculate RMSE\n",
    "rmse = math.sqrt(mean_squared_error(real_price, predicited_price))\n",
    "print(f'RMSE: {rmse}')\n"
   ]
  },
  {
   "cell_type": "code",
   "execution_count": null,
   "metadata": {},
   "outputs": [
    {
     "name": "stdout",
     "output_type": "stream",
     "text": [
      "Model and Scaler saved successfully.\n"
     ]
    }
   ],
   "source": [
    "#Save the trained model \n",
    "# Save the trained model\n",
    "torch.save(model.state_dict(), 'stock_price_predictor.pth')\n",
    "\n",
    "# Save the scaler\n",
    "joblib.dump(scaler, 'scaler.pkl')\n",
    "\n",
    "print(\"Model and Scaler saved successfully.\")"
   ]
  },
  {
   "cell_type": "markdown",
   "metadata": {},
   "source": [
    "Predict the price for tommorow"
   ]
  },
  {
   "cell_type": "code",
   "execution_count": null,
   "metadata": {},
   "outputs": [],
   "source": [
    "def predict_stock_price():\n",
    "    #plot historical data.\n",
    "    end_date = datetime.today()\n",
    "    start_date = end_date - timedelta(days=60) \n",
    "    ticker = \"SBIN.NS\"\n",
    "\n",
    "    data = si.get_historical_data(start_date=start_date, end_date=end_date, ticker=ticker)\n",
    "    data = data['Close_SBIN.NS']\n",
    "    #calculate moving avg \n",
    "    data['MAS'] = data['Close_SBIN.NS'].rolling(window=5).mean()\n",
    "    data['MAS20'] = data['Close_SBIN.NS'].rolling(window=20).mean()\n",
    "    data.dropna(inplace=True)\n",
    "    \n",
    "    scaled_data = scaler.fit_transform(data)\n",
    "    input_tensor = torch.tensor(scaled_data, dtype=torch.float32)\n",
    "    model.eval() # set the model to evaluation mode\n",
    "\n",
    "    with torch.no_grad():\n",
    "        predicited_price = model(input_tensor)\n",
    "\n",
    "    # convert prediction and true values back to the original scale\n",
    "    predicited_price = predicited_price.numpy()\n",
    "    \n",
    "    #Inverse scalling on all the featurees\n",
    "    predicted_price_all_features = np.concatenate([predicited_price, np.zeros((predicited_price.shape[0],2))], axis = 1)\n",
    "    #inverse the scalling to get the actual pricing\n",
    "    predicted_price_all_features = scaler.inverse_transform(predicted_price_all_features)\n",
    "\n",
    "    predicited_price_final = predicted_price_all_features[:,0]\n",
    "    return predicited_price_final"
   ]
  },
  {
   "cell_type": "code",
   "execution_count": 194,
   "metadata": {},
   "outputs": [
    {
     "name": "stderr",
     "output_type": "stream",
     "text": [
      "[*********************100%***********************]  1 of 1 completed\n"
     ]
    },
    {
     "ename": "KeyError",
     "evalue": "'Close_SBIN.NS'",
     "output_type": "error",
     "traceback": [
      "\u001b[1;31m---------------------------------------------------------------------------\u001b[0m",
      "\u001b[1;31mDateParseError\u001b[0m                            Traceback (most recent call last)",
      "File \u001b[1;32mc:\\Users\\DivyaPrakash\\anaconda3\\Lib\\site-packages\\pandas\\core\\indexes\\datetimes.py:557\u001b[0m, in \u001b[0;36mDatetimeIndex.get_loc\u001b[1;34m(self, key)\u001b[0m\n\u001b[0;32m    556\u001b[0m \u001b[38;5;28;01mtry\u001b[39;00m:\n\u001b[1;32m--> 557\u001b[0m     parsed, reso \u001b[38;5;241m=\u001b[39m \u001b[38;5;28mself\u001b[39m\u001b[38;5;241m.\u001b[39m_parse_with_reso(key)\n\u001b[0;32m    558\u001b[0m \u001b[38;5;28;01mexcept\u001b[39;00m (\u001b[38;5;167;01mValueError\u001b[39;00m, pytz\u001b[38;5;241m.\u001b[39mNonExistentTimeError) \u001b[38;5;28;01mas\u001b[39;00m err:\n",
      "File \u001b[1;32mc:\\Users\\DivyaPrakash\\anaconda3\\Lib\\site-packages\\pandas\\core\\indexes\\datetimes.py:513\u001b[0m, in \u001b[0;36mDatetimeIndex._parse_with_reso\u001b[1;34m(self, label)\u001b[0m\n\u001b[0;32m    512\u001b[0m \u001b[38;5;28;01mdef\u001b[39;00m \u001b[38;5;21m_parse_with_reso\u001b[39m(\u001b[38;5;28mself\u001b[39m, label: \u001b[38;5;28mstr\u001b[39m):\n\u001b[1;32m--> 513\u001b[0m     parsed, reso \u001b[38;5;241m=\u001b[39m \u001b[38;5;28msuper\u001b[39m()\u001b[38;5;241m.\u001b[39m_parse_with_reso(label)\n\u001b[0;32m    515\u001b[0m     parsed \u001b[38;5;241m=\u001b[39m Timestamp(parsed)\n",
      "File \u001b[1;32mc:\\Users\\DivyaPrakash\\anaconda3\\Lib\\site-packages\\pandas\\core\\indexes\\datetimelike.py:267\u001b[0m, in \u001b[0;36mDatetimeIndexOpsMixin._parse_with_reso\u001b[1;34m(self, label)\u001b[0m\n\u001b[0;32m    265\u001b[0m     label \u001b[38;5;241m=\u001b[39m \u001b[38;5;28mstr\u001b[39m(label)\n\u001b[1;32m--> 267\u001b[0m parsed, reso_str \u001b[38;5;241m=\u001b[39m parsing\u001b[38;5;241m.\u001b[39mparse_datetime_string_with_reso(label, freqstr)\n\u001b[0;32m    268\u001b[0m reso \u001b[38;5;241m=\u001b[39m Resolution\u001b[38;5;241m.\u001b[39mfrom_attrname(reso_str)\n",
      "File \u001b[1;32mc:\\Users\\DivyaPrakash\\anaconda3\\Lib\\site-packages\\pandas\\_libs\\tslibs\\parsing.pyx:435\u001b[0m, in \u001b[0;36mpandas._libs.tslibs.parsing.parse_datetime_string_with_reso\u001b[1;34m()\u001b[0m\n",
      "File \u001b[1;32mc:\\Users\\DivyaPrakash\\anaconda3\\Lib\\site-packages\\pandas\\_libs\\tslibs\\parsing.pyx:658\u001b[0m, in \u001b[0;36mpandas._libs.tslibs.parsing.dateutil_parse\u001b[1;34m()\u001b[0m\n",
      "\u001b[1;31mDateParseError\u001b[0m: Unknown datetime string format, unable to parse: Close_SBIN.NS",
      "\nThe above exception was the direct cause of the following exception:\n",
      "\u001b[1;31mKeyError\u001b[0m                                  Traceback (most recent call last)",
      "Cell \u001b[1;32mIn[194], line 1\u001b[0m\n\u001b[1;32m----> 1\u001b[0m predict_stock_price()\n",
      "Cell \u001b[1;32mIn[193], line 10\u001b[0m, in \u001b[0;36mpredict_stock_price\u001b[1;34m()\u001b[0m\n\u001b[0;32m      8\u001b[0m data \u001b[38;5;241m=\u001b[39m data[\u001b[38;5;124m'\u001b[39m\u001b[38;5;124mClose_SBIN.NS\u001b[39m\u001b[38;5;124m'\u001b[39m]\n\u001b[0;32m      9\u001b[0m \u001b[38;5;66;03m#calculate moving avg \u001b[39;00m\n\u001b[1;32m---> 10\u001b[0m data[\u001b[38;5;124m'\u001b[39m\u001b[38;5;124mMAS\u001b[39m\u001b[38;5;124m'\u001b[39m] \u001b[38;5;241m=\u001b[39m data[\u001b[38;5;124m'\u001b[39m\u001b[38;5;124mClose_SBIN.NS\u001b[39m\u001b[38;5;124m'\u001b[39m]\u001b[38;5;241m.\u001b[39mrolling(window\u001b[38;5;241m=\u001b[39m\u001b[38;5;241m5\u001b[39m)\u001b[38;5;241m.\u001b[39mmean()\n\u001b[0;32m     11\u001b[0m data[\u001b[38;5;124m'\u001b[39m\u001b[38;5;124mMAS20\u001b[39m\u001b[38;5;124m'\u001b[39m] \u001b[38;5;241m=\u001b[39m data[\u001b[38;5;124m'\u001b[39m\u001b[38;5;124mClose_SBIN.NS\u001b[39m\u001b[38;5;124m'\u001b[39m]\u001b[38;5;241m.\u001b[39mrolling(window\u001b[38;5;241m=\u001b[39m\u001b[38;5;241m20\u001b[39m)\u001b[38;5;241m.\u001b[39mmean()\n\u001b[0;32m     12\u001b[0m data\u001b[38;5;241m.\u001b[39mdropna(inplace\u001b[38;5;241m=\u001b[39m\u001b[38;5;28;01mTrue\u001b[39;00m)\n",
      "File \u001b[1;32mc:\\Users\\DivyaPrakash\\anaconda3\\Lib\\site-packages\\pandas\\core\\series.py:1007\u001b[0m, in \u001b[0;36mSeries.__getitem__\u001b[1;34m(self, key)\u001b[0m\n\u001b[0;32m   1004\u001b[0m     \u001b[38;5;28;01mreturn\u001b[39;00m \u001b[38;5;28mself\u001b[39m\u001b[38;5;241m.\u001b[39m_values[key]\n\u001b[0;32m   1006\u001b[0m \u001b[38;5;28;01melif\u001b[39;00m key_is_scalar:\n\u001b[1;32m-> 1007\u001b[0m     \u001b[38;5;28;01mreturn\u001b[39;00m \u001b[38;5;28mself\u001b[39m\u001b[38;5;241m.\u001b[39m_get_value(key)\n\u001b[0;32m   1009\u001b[0m \u001b[38;5;28;01mif\u001b[39;00m is_hashable(key):\n\u001b[0;32m   1010\u001b[0m     \u001b[38;5;66;03m# Otherwise index.get_value will raise InvalidIndexError\u001b[39;00m\n\u001b[0;32m   1011\u001b[0m     \u001b[38;5;28;01mtry\u001b[39;00m:\n\u001b[0;32m   1012\u001b[0m         \u001b[38;5;66;03m# For labels that don't resolve as scalars like tuples and frozensets\u001b[39;00m\n",
      "File \u001b[1;32mc:\\Users\\DivyaPrakash\\anaconda3\\Lib\\site-packages\\pandas\\core\\series.py:1116\u001b[0m, in \u001b[0;36mSeries._get_value\u001b[1;34m(self, label, takeable)\u001b[0m\n\u001b[0;32m   1113\u001b[0m     \u001b[38;5;28;01mreturn\u001b[39;00m \u001b[38;5;28mself\u001b[39m\u001b[38;5;241m.\u001b[39m_values[label]\n\u001b[0;32m   1115\u001b[0m \u001b[38;5;66;03m# Similar to Index.get_value, but we do not fall back to positional\u001b[39;00m\n\u001b[1;32m-> 1116\u001b[0m loc \u001b[38;5;241m=\u001b[39m \u001b[38;5;28mself\u001b[39m\u001b[38;5;241m.\u001b[39mindex\u001b[38;5;241m.\u001b[39mget_loc(label)\n\u001b[0;32m   1118\u001b[0m \u001b[38;5;28;01mif\u001b[39;00m is_integer(loc):\n\u001b[0;32m   1119\u001b[0m     \u001b[38;5;28;01mreturn\u001b[39;00m \u001b[38;5;28mself\u001b[39m\u001b[38;5;241m.\u001b[39m_values[loc]\n",
      "File \u001b[1;32mc:\\Users\\DivyaPrakash\\anaconda3\\Lib\\site-packages\\pandas\\core\\indexes\\datetimes.py:559\u001b[0m, in \u001b[0;36mDatetimeIndex.get_loc\u001b[1;34m(self, key)\u001b[0m\n\u001b[0;32m    557\u001b[0m     parsed, reso \u001b[38;5;241m=\u001b[39m \u001b[38;5;28mself\u001b[39m\u001b[38;5;241m.\u001b[39m_parse_with_reso(key)\n\u001b[0;32m    558\u001b[0m \u001b[38;5;28;01mexcept\u001b[39;00m (\u001b[38;5;167;01mValueError\u001b[39;00m, pytz\u001b[38;5;241m.\u001b[39mNonExistentTimeError) \u001b[38;5;28;01mas\u001b[39;00m err:\n\u001b[1;32m--> 559\u001b[0m     \u001b[38;5;28;01mraise\u001b[39;00m \u001b[38;5;167;01mKeyError\u001b[39;00m(key) \u001b[38;5;28;01mfrom\u001b[39;00m \u001b[38;5;21;01merr\u001b[39;00m\n\u001b[0;32m    560\u001b[0m \u001b[38;5;28mself\u001b[39m\u001b[38;5;241m.\u001b[39m_disallow_mismatched_indexing(parsed)\n\u001b[0;32m    562\u001b[0m \u001b[38;5;28;01mif\u001b[39;00m \u001b[38;5;28mself\u001b[39m\u001b[38;5;241m.\u001b[39m_can_partial_date_slice(reso):\n",
      "\u001b[1;31mKeyError\u001b[0m: 'Close_SBIN.NS'"
     ]
    }
   ],
   "source": [
    "predict_stock_price()"
   ]
  },
  {
   "cell_type": "code",
   "execution_count": 177,
   "metadata": {},
   "outputs": [
    {
     "data": {
      "text/plain": [
       "datetime.datetime(2010, 1, 1, 0, 0)"
      ]
     },
     "execution_count": 177,
     "metadata": {},
     "output_type": "execute_result"
    }
   ],
   "source": [
    "datetime(2010, 1, 1)"
   ]
  },
  {
   "cell_type": "code",
   "execution_count": null,
   "metadata": {},
   "outputs": [],
   "source": []
  }
 ],
 "metadata": {
  "kernelspec": {
   "display_name": "base",
   "language": "python",
   "name": "python3"
  },
  "language_info": {
   "codemirror_mode": {
    "name": "ipython",
    "version": 3
   },
   "file_extension": ".py",
   "mimetype": "text/x-python",
   "name": "python",
   "nbconvert_exporter": "python",
   "pygments_lexer": "ipython3",
   "version": "3.11.5"
  }
 },
 "nbformat": 4,
 "nbformat_minor": 2
}
